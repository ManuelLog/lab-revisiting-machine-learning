{
 "cells": [
  {
   "cell_type": "code",
   "execution_count": 1,
   "id": "db86f378",
   "metadata": {},
   "outputs": [],
   "source": [
    "import pandas as pd\n",
    "import numpy as np\n",
    "from sklearn.model_selection import train_test_split\n",
    "from sklearn.preprocessing import MinMaxScaler \n",
    "from sklearn.preprocessing import OneHotEncoder\n",
    "from sklearn.linear_model import LogisticRegression\n",
    "from sklearn.metrics import confusion_matrix\n",
    "from sklearn.utils import resample\n",
    "from imblearn.over_sampling import SMOTE\n",
    "from sklearn.metrics import precision_score,recall_score,f1_score"
   ]
  },
  {
   "cell_type": "markdown",
   "id": "0e9a9b6c",
   "metadata": {},
   "source": [
    "### Import the required libraries and modules that you would need."
   ]
  },
  {
   "cell_type": "markdown",
   "id": "c5f209b5",
   "metadata": {},
   "source": [
    "### Read that data into Python and call the dataframe donors."
   ]
  },
  {
   "cell_type": "code",
   "execution_count": 2,
   "id": "54e09b60",
   "metadata": {},
   "outputs": [],
   "source": [
    "numerical = pd.read_csv('numerical7_02.csv')\n",
    "numerical = numerical.drop(['Unnamed: 0'], axis = 1)\n"
   ]
  },
  {
   "cell_type": "code",
   "execution_count": 3,
   "id": "8eb7af14",
   "metadata": {},
   "outputs": [],
   "source": [
    "categorical = pd.read_csv('categorical7_02.csv')\n",
    "categorical = categorical.drop(['Unnamed: 0'], axis = 1)\n"
   ]
  },
  {
   "cell_type": "code",
   "execution_count": 4,
   "id": "7b752740",
   "metadata": {},
   "outputs": [
    {
     "data": {
      "text/html": [
       "<div>\n",
       "<style scoped>\n",
       "    .dataframe tbody tr th:only-of-type {\n",
       "        vertical-align: middle;\n",
       "    }\n",
       "\n",
       "    .dataframe tbody tr th {\n",
       "        vertical-align: top;\n",
       "    }\n",
       "\n",
       "    .dataframe thead th {\n",
       "        text-align: right;\n",
       "    }\n",
       "</style>\n",
       "<table border=\"1\" class=\"dataframe\">\n",
       "  <thead>\n",
       "    <tr style=\"text-align: right;\">\n",
       "      <th></th>\n",
       "      <th>TARGET_B</th>\n",
       "    </tr>\n",
       "  </thead>\n",
       "  <tbody>\n",
       "    <tr>\n",
       "      <th>0</th>\n",
       "      <td>0</td>\n",
       "    </tr>\n",
       "    <tr>\n",
       "      <th>1</th>\n",
       "      <td>0</td>\n",
       "    </tr>\n",
       "    <tr>\n",
       "      <th>2</th>\n",
       "      <td>0</td>\n",
       "    </tr>\n",
       "    <tr>\n",
       "      <th>3</th>\n",
       "      <td>0</td>\n",
       "    </tr>\n",
       "    <tr>\n",
       "      <th>4</th>\n",
       "      <td>0</td>\n",
       "    </tr>\n",
       "    <tr>\n",
       "      <th>...</th>\n",
       "      <td>...</td>\n",
       "    </tr>\n",
       "    <tr>\n",
       "      <th>95407</th>\n",
       "      <td>0</td>\n",
       "    </tr>\n",
       "    <tr>\n",
       "      <th>95408</th>\n",
       "      <td>0</td>\n",
       "    </tr>\n",
       "    <tr>\n",
       "      <th>95409</th>\n",
       "      <td>0</td>\n",
       "    </tr>\n",
       "    <tr>\n",
       "      <th>95410</th>\n",
       "      <td>1</td>\n",
       "    </tr>\n",
       "    <tr>\n",
       "      <th>95411</th>\n",
       "      <td>0</td>\n",
       "    </tr>\n",
       "  </tbody>\n",
       "</table>\n",
       "<p>95412 rows × 1 columns</p>\n",
       "</div>"
      ],
      "text/plain": [
       "       TARGET_B\n",
       "0             0\n",
       "1             0\n",
       "2             0\n",
       "3             0\n",
       "4             0\n",
       "...         ...\n",
       "95407         0\n",
       "95408         0\n",
       "95409         0\n",
       "95410         1\n",
       "95411         0\n",
       "\n",
       "[95412 rows x 1 columns]"
      ]
     },
     "execution_count": 4,
     "metadata": {},
     "output_type": "execute_result"
    }
   ],
   "source": [
    "Ydatat = pd.read_csv('target7_02.csv')\n",
    "datatarget = Ydatat.drop(['Unnamed: 0','TARGET_D'], axis = 1)\n",
    "datatarget"
   ]
  },
  {
   "cell_type": "code",
   "execution_count": 5,
   "id": "26bcf86c",
   "metadata": {},
   "outputs": [],
   "source": [
    "donors = pd.concat([numerical, categorical,datatarget], axis=1)"
   ]
  },
  {
   "cell_type": "code",
   "execution_count": 6,
   "id": "be377c74",
   "metadata": {},
   "outputs": [],
   "source": [
    "#dropping columns \n",
    "donors = donors.drop(['ADATE_2','ADATE_3','ADATE_4','ADATE_6','ADATE_7','ADATE_8','ADATE_9','ADATE_11','ADATE_12','ADATE_14','ADATE_16','ADATE_18','NEXTDATE'],axis=1)"
   ]
  },
  {
   "cell_type": "code",
   "execution_count": 7,
   "id": "57ebf9b9",
   "metadata": {},
   "outputs": [
    {
     "data": {
      "text/html": [
       "<div>\n",
       "<style scoped>\n",
       "    .dataframe tbody tr th:only-of-type {\n",
       "        vertical-align: middle;\n",
       "    }\n",
       "\n",
       "    .dataframe tbody tr th {\n",
       "        vertical-align: top;\n",
       "    }\n",
       "\n",
       "    .dataframe thead th {\n",
       "        text-align: right;\n",
       "    }\n",
       "</style>\n",
       "<table border=\"1\" class=\"dataframe\">\n",
       "  <thead>\n",
       "    <tr style=\"text-align: right;\">\n",
       "      <th></th>\n",
       "      <th>ODATEDW</th>\n",
       "      <th>TCODE</th>\n",
       "      <th>DOB</th>\n",
       "      <th>AGE</th>\n",
       "      <th>INCOME</th>\n",
       "      <th>WEALTH1</th>\n",
       "      <th>HIT</th>\n",
       "      <th>MALEMILI</th>\n",
       "      <th>MALEVET</th>\n",
       "      <th>VIETVETS</th>\n",
       "      <th>...</th>\n",
       "      <th>GENDER</th>\n",
       "      <th>DATASRCE</th>\n",
       "      <th>SOLIH</th>\n",
       "      <th>VETERANS</th>\n",
       "      <th>RFA_2R</th>\n",
       "      <th>RFA_2A</th>\n",
       "      <th>GEOCODE2</th>\n",
       "      <th>DOMAIN_A</th>\n",
       "      <th>DOMAIN_B</th>\n",
       "      <th>TARGET_B</th>\n",
       "    </tr>\n",
       "  </thead>\n",
       "  <tbody>\n",
       "    <tr>\n",
       "      <th>0</th>\n",
       "      <td>8901</td>\n",
       "      <td>0</td>\n",
       "      <td>3712</td>\n",
       "      <td>60.000000</td>\n",
       "      <td>5.0</td>\n",
       "      <td>5.0</td>\n",
       "      <td>0</td>\n",
       "      <td>0</td>\n",
       "      <td>39</td>\n",
       "      <td>34</td>\n",
       "      <td>...</td>\n",
       "      <td>F</td>\n",
       "      <td>3</td>\n",
       "      <td>NaN</td>\n",
       "      <td>NaN</td>\n",
       "      <td>L</td>\n",
       "      <td>E</td>\n",
       "      <td>C</td>\n",
       "      <td>T</td>\n",
       "      <td>2</td>\n",
       "      <td>0</td>\n",
       "    </tr>\n",
       "    <tr>\n",
       "      <th>1</th>\n",
       "      <td>9401</td>\n",
       "      <td>1</td>\n",
       "      <td>5202</td>\n",
       "      <td>46.000000</td>\n",
       "      <td>6.0</td>\n",
       "      <td>9.0</td>\n",
       "      <td>16</td>\n",
       "      <td>0</td>\n",
       "      <td>15</td>\n",
       "      <td>55</td>\n",
       "      <td>...</td>\n",
       "      <td>M</td>\n",
       "      <td>3</td>\n",
       "      <td>NaN</td>\n",
       "      <td>NaN</td>\n",
       "      <td>L</td>\n",
       "      <td>G</td>\n",
       "      <td>A</td>\n",
       "      <td>S</td>\n",
       "      <td>1</td>\n",
       "      <td>0</td>\n",
       "    </tr>\n",
       "    <tr>\n",
       "      <th>2</th>\n",
       "      <td>9001</td>\n",
       "      <td>1</td>\n",
       "      <td>0</td>\n",
       "      <td>61.611649</td>\n",
       "      <td>3.0</td>\n",
       "      <td>1.0</td>\n",
       "      <td>2</td>\n",
       "      <td>0</td>\n",
       "      <td>20</td>\n",
       "      <td>29</td>\n",
       "      <td>...</td>\n",
       "      <td>M</td>\n",
       "      <td>3</td>\n",
       "      <td>NaN</td>\n",
       "      <td>NaN</td>\n",
       "      <td>L</td>\n",
       "      <td>E</td>\n",
       "      <td>C</td>\n",
       "      <td>R</td>\n",
       "      <td>2</td>\n",
       "      <td>0</td>\n",
       "    </tr>\n",
       "    <tr>\n",
       "      <th>3</th>\n",
       "      <td>8701</td>\n",
       "      <td>0</td>\n",
       "      <td>2801</td>\n",
       "      <td>70.000000</td>\n",
       "      <td>1.0</td>\n",
       "      <td>4.0</td>\n",
       "      <td>2</td>\n",
       "      <td>0</td>\n",
       "      <td>23</td>\n",
       "      <td>14</td>\n",
       "      <td>...</td>\n",
       "      <td>F</td>\n",
       "      <td>3</td>\n",
       "      <td>NaN</td>\n",
       "      <td>NaN</td>\n",
       "      <td>L</td>\n",
       "      <td>E</td>\n",
       "      <td>C</td>\n",
       "      <td>R</td>\n",
       "      <td>2</td>\n",
       "      <td>0</td>\n",
       "    </tr>\n",
       "    <tr>\n",
       "      <th>4</th>\n",
       "      <td>8601</td>\n",
       "      <td>0</td>\n",
       "      <td>2001</td>\n",
       "      <td>78.000000</td>\n",
       "      <td>3.0</td>\n",
       "      <td>2.0</td>\n",
       "      <td>60</td>\n",
       "      <td>1</td>\n",
       "      <td>28</td>\n",
       "      <td>9</td>\n",
       "      <td>...</td>\n",
       "      <td>F</td>\n",
       "      <td>3</td>\n",
       "      <td>12.0</td>\n",
       "      <td>NaN</td>\n",
       "      <td>L</td>\n",
       "      <td>F</td>\n",
       "      <td>A</td>\n",
       "      <td>S</td>\n",
       "      <td>2</td>\n",
       "      <td>0</td>\n",
       "    </tr>\n",
       "    <tr>\n",
       "      <th>...</th>\n",
       "      <td>...</td>\n",
       "      <td>...</td>\n",
       "      <td>...</td>\n",
       "      <td>...</td>\n",
       "      <td>...</td>\n",
       "      <td>...</td>\n",
       "      <td>...</td>\n",
       "      <td>...</td>\n",
       "      <td>...</td>\n",
       "      <td>...</td>\n",
       "      <td>...</td>\n",
       "      <td>...</td>\n",
       "      <td>...</td>\n",
       "      <td>...</td>\n",
       "      <td>...</td>\n",
       "      <td>...</td>\n",
       "      <td>...</td>\n",
       "      <td>...</td>\n",
       "      <td>...</td>\n",
       "      <td>...</td>\n",
       "      <td>...</td>\n",
       "    </tr>\n",
       "    <tr>\n",
       "      <th>95407</th>\n",
       "      <td>9601</td>\n",
       "      <td>1</td>\n",
       "      <td>0</td>\n",
       "      <td>61.611649</td>\n",
       "      <td>5.0</td>\n",
       "      <td>5.0</td>\n",
       "      <td>0</td>\n",
       "      <td>14</td>\n",
       "      <td>36</td>\n",
       "      <td>47</td>\n",
       "      <td>...</td>\n",
       "      <td>M</td>\n",
       "      <td>3</td>\n",
       "      <td>NaN</td>\n",
       "      <td>NaN</td>\n",
       "      <td>L</td>\n",
       "      <td>G</td>\n",
       "      <td>C</td>\n",
       "      <td>C</td>\n",
       "      <td>2</td>\n",
       "      <td>0</td>\n",
       "    </tr>\n",
       "    <tr>\n",
       "      <th>95408</th>\n",
       "      <td>9601</td>\n",
       "      <td>1</td>\n",
       "      <td>5001</td>\n",
       "      <td>48.000000</td>\n",
       "      <td>7.0</td>\n",
       "      <td>9.0</td>\n",
       "      <td>1</td>\n",
       "      <td>0</td>\n",
       "      <td>31</td>\n",
       "      <td>43</td>\n",
       "      <td>...</td>\n",
       "      <td>M</td>\n",
       "      <td>3</td>\n",
       "      <td>NaN</td>\n",
       "      <td>NaN</td>\n",
       "      <td>L</td>\n",
       "      <td>F</td>\n",
       "      <td>A</td>\n",
       "      <td>C</td>\n",
       "      <td>1</td>\n",
       "      <td>0</td>\n",
       "    </tr>\n",
       "    <tr>\n",
       "      <th>95409</th>\n",
       "      <td>9501</td>\n",
       "      <td>1</td>\n",
       "      <td>3801</td>\n",
       "      <td>60.000000</td>\n",
       "      <td>5.0</td>\n",
       "      <td>5.0</td>\n",
       "      <td>0</td>\n",
       "      <td>0</td>\n",
       "      <td>18</td>\n",
       "      <td>46</td>\n",
       "      <td>...</td>\n",
       "      <td>M</td>\n",
       "      <td>3</td>\n",
       "      <td>NaN</td>\n",
       "      <td>NaN</td>\n",
       "      <td>L</td>\n",
       "      <td>E</td>\n",
       "      <td>B</td>\n",
       "      <td>C</td>\n",
       "      <td>3</td>\n",
       "      <td>0</td>\n",
       "    </tr>\n",
       "    <tr>\n",
       "      <th>95410</th>\n",
       "      <td>8601</td>\n",
       "      <td>0</td>\n",
       "      <td>4005</td>\n",
       "      <td>58.000000</td>\n",
       "      <td>7.0</td>\n",
       "      <td>5.0</td>\n",
       "      <td>0</td>\n",
       "      <td>0</td>\n",
       "      <td>28</td>\n",
       "      <td>35</td>\n",
       "      <td>...</td>\n",
       "      <td>F</td>\n",
       "      <td>2</td>\n",
       "      <td>12.0</td>\n",
       "      <td>NaN</td>\n",
       "      <td>L</td>\n",
       "      <td>F</td>\n",
       "      <td>A</td>\n",
       "      <td>C</td>\n",
       "      <td>1</td>\n",
       "      <td>1</td>\n",
       "    </tr>\n",
       "    <tr>\n",
       "      <th>95411</th>\n",
       "      <td>8801</td>\n",
       "      <td>2</td>\n",
       "      <td>1801</td>\n",
       "      <td>80.000000</td>\n",
       "      <td>5.0</td>\n",
       "      <td>8.0</td>\n",
       "      <td>3</td>\n",
       "      <td>1</td>\n",
       "      <td>33</td>\n",
       "      <td>22</td>\n",
       "      <td>...</td>\n",
       "      <td>F</td>\n",
       "      <td>3</td>\n",
       "      <td>12.0</td>\n",
       "      <td>NaN</td>\n",
       "      <td>L</td>\n",
       "      <td>G</td>\n",
       "      <td>C</td>\n",
       "      <td>C</td>\n",
       "      <td>1</td>\n",
       "      <td>0</td>\n",
       "    </tr>\n",
       "  </tbody>\n",
       "</table>\n",
       "<p>95412 rows × 335 columns</p>\n",
       "</div>"
      ],
      "text/plain": [
       "       ODATEDW  TCODE   DOB        AGE  INCOME  WEALTH1  HIT  MALEMILI  \\\n",
       "0         8901      0  3712  60.000000     5.0      5.0    0         0   \n",
       "1         9401      1  5202  46.000000     6.0      9.0   16         0   \n",
       "2         9001      1     0  61.611649     3.0      1.0    2         0   \n",
       "3         8701      0  2801  70.000000     1.0      4.0    2         0   \n",
       "4         8601      0  2001  78.000000     3.0      2.0   60         1   \n",
       "...        ...    ...   ...        ...     ...      ...  ...       ...   \n",
       "95407     9601      1     0  61.611649     5.0      5.0    0        14   \n",
       "95408     9601      1  5001  48.000000     7.0      9.0    1         0   \n",
       "95409     9501      1  3801  60.000000     5.0      5.0    0         0   \n",
       "95410     8601      0  4005  58.000000     7.0      5.0    0         0   \n",
       "95411     8801      2  1801  80.000000     5.0      8.0    3         1   \n",
       "\n",
       "       MALEVET  VIETVETS  ...  GENDER  DATASRCE  SOLIH  VETERANS  RFA_2R  \\\n",
       "0           39        34  ...       F         3    NaN       NaN       L   \n",
       "1           15        55  ...       M         3    NaN       NaN       L   \n",
       "2           20        29  ...       M         3    NaN       NaN       L   \n",
       "3           23        14  ...       F         3    NaN       NaN       L   \n",
       "4           28         9  ...       F         3   12.0       NaN       L   \n",
       "...        ...       ...  ...     ...       ...    ...       ...     ...   \n",
       "95407       36        47  ...       M         3    NaN       NaN       L   \n",
       "95408       31        43  ...       M         3    NaN       NaN       L   \n",
       "95409       18        46  ...       M         3    NaN       NaN       L   \n",
       "95410       28        35  ...       F         2   12.0       NaN       L   \n",
       "95411       33        22  ...       F         3   12.0       NaN       L   \n",
       "\n",
       "       RFA_2A  GEOCODE2  DOMAIN_A  DOMAIN_B  TARGET_B  \n",
       "0           E         C         T         2         0  \n",
       "1           G         A         S         1         0  \n",
       "2           E         C         R         2         0  \n",
       "3           E         C         R         2         0  \n",
       "4           F         A         S         2         0  \n",
       "...       ...       ...       ...       ...       ...  \n",
       "95407       G         C         C         2         0  \n",
       "95408       F         A         C         1         0  \n",
       "95409       E         B         C         3         0  \n",
       "95410       F         A         C         1         1  \n",
       "95411       G         C         C         1         0  \n",
       "\n",
       "[95412 rows x 335 columns]"
      ]
     },
     "execution_count": 7,
     "metadata": {},
     "output_type": "execute_result"
    }
   ],
   "source": [
    "donors"
   ]
  },
  {
   "cell_type": "code",
   "execution_count": 8,
   "id": "6c2a2211",
   "metadata": {},
   "outputs": [
    {
     "data": {
      "text/plain": [
       "ODATEDW     0\n",
       "TCODE       0\n",
       "DOB         0\n",
       "AGE         0\n",
       "INCOME      0\n",
       "           ..\n",
       "RFA_2A      0\n",
       "GEOCODE2    0\n",
       "DOMAIN_A    0\n",
       "DOMAIN_B    0\n",
       "TARGET_B    0\n",
       "Length: 333, dtype: int64"
      ]
     },
     "execution_count": 8,
     "metadata": {},
     "output_type": "execute_result"
    }
   ],
   "source": [
    "nas = pd.Series(donors.isna().sum())\n",
    "nas[nas==0]"
   ]
  },
  {
   "cell_type": "code",
   "execution_count": null,
   "id": "97fadbef",
   "metadata": {},
   "outputs": [],
   "source": []
  },
  {
   "cell_type": "markdown",
   "id": "2f7347a5",
   "metadata": {},
   "source": [
    "### Check the datatypes of all the columns in the data"
   ]
  },
  {
   "cell_type": "code",
   "execution_count": 9,
   "id": "9b11e1c9",
   "metadata": {},
   "outputs": [
    {
     "data": {
      "text/plain": [
       "ODATEDW       int64\n",
       "TCODE         int64\n",
       "DOB           int64\n",
       "AGE         float64\n",
       "INCOME      float64\n",
       "             ...   \n",
       "RFA_2A       object\n",
       "GEOCODE2     object\n",
       "DOMAIN_A     object\n",
       "DOMAIN_B      int64\n",
       "TARGET_B      int64\n",
       "Length: 335, dtype: object"
      ]
     },
     "execution_count": 9,
     "metadata": {},
     "output_type": "execute_result"
    }
   ],
   "source": [
    "donors.dtypes"
   ]
  },
  {
   "cell_type": "markdown",
   "id": "df68147a",
   "metadata": {},
   "source": [
    "### Check for null values in the dataframe. Replace the null values using the methods learned in class."
   ]
  },
  {
   "cell_type": "code",
   "execution_count": 10,
   "id": "4eb7a28f",
   "metadata": {},
   "outputs": [],
   "source": [
    "#done in previus labs. dropping both column which there is a high number of null values\n",
    "donors = donors.drop(['SOLIH','VETERANS'],axis=1)\n",
    "\n",
    "\n"
   ]
  },
  {
   "cell_type": "markdown",
   "id": "757c46ff",
   "metadata": {},
   "source": [
    "### Split the data into numerical and catagorical. Decide if any columns need their dtype changed."
   ]
  },
  {
   "cell_type": "code",
   "execution_count": 11,
   "id": "627d550d",
   "metadata": {},
   "outputs": [],
   "source": [
    "numerical = donors.select_dtypes(np.number)\n",
    "categorical = donors.select_dtypes(object)"
   ]
  },
  {
   "cell_type": "markdown",
   "id": "e1646570",
   "metadata": {},
   "source": [
    "### Split the data into a training set and a test set"
   ]
  },
  {
   "cell_type": "code",
   "execution_count": 12,
   "id": "a45a3793",
   "metadata": {},
   "outputs": [],
   "source": [
    "X = donors.drop([\"TARGET_B\"], axis = 1)\n",
    "y = donors['TARGET_B']"
   ]
  },
  {
   "cell_type": "code",
   "execution_count": 13,
   "id": "def0becd",
   "metadata": {},
   "outputs": [],
   "source": [
    "from sklearn.model_selection import train_test_split\n",
    "X_train, X_test, y_train, y_test = train_test_split(X, y, test_size=0.2, random_state=42)"
   ]
  },
  {
   "cell_type": "markdown",
   "id": "589baf76",
   "metadata": {},
   "source": [
    "### Scale the features either by using normalizer or a standard scaler."
   ]
  },
  {
   "cell_type": "code",
   "execution_count": 14,
   "id": "1a626d12",
   "metadata": {},
   "outputs": [],
   "source": [
    "#X_num = X.select_dtypes(include = np.number)\n",
    "#X_cat = X.select_dtypes(include = object)"
   ]
  },
  {
   "cell_type": "code",
   "execution_count": 15,
   "id": "6498a052",
   "metadata": {},
   "outputs": [],
   "source": [
    "#split the train test into numerical and categorical\n",
    "numerical = X_train.select_dtypes(include = np.number)\n",
    "categorical = X_train.select_dtypes(include = object)"
   ]
  },
  {
   "cell_type": "code",
   "execution_count": 16,
   "id": "323c891d",
   "metadata": {},
   "outputs": [
    {
     "data": {
      "text/html": [
       "<div>\n",
       "<style scoped>\n",
       "    .dataframe tbody tr th:only-of-type {\n",
       "        vertical-align: middle;\n",
       "    }\n",
       "\n",
       "    .dataframe tbody tr th {\n",
       "        vertical-align: top;\n",
       "    }\n",
       "\n",
       "    .dataframe thead th {\n",
       "        text-align: right;\n",
       "    }\n",
       "</style>\n",
       "<table border=\"1\" class=\"dataframe\">\n",
       "  <thead>\n",
       "    <tr style=\"text-align: right;\">\n",
       "      <th></th>\n",
       "      <th>ODATEDW</th>\n",
       "      <th>TCODE</th>\n",
       "      <th>DOB</th>\n",
       "      <th>AGE</th>\n",
       "      <th>INCOME</th>\n",
       "      <th>WEALTH1</th>\n",
       "      <th>HIT</th>\n",
       "      <th>MALEMILI</th>\n",
       "      <th>MALEVET</th>\n",
       "      <th>VIETVETS</th>\n",
       "      <th>...</th>\n",
       "      <th>FISTDATE</th>\n",
       "      <th>TIMELAG</th>\n",
       "      <th>AVGGIFT</th>\n",
       "      <th>CONTROLN</th>\n",
       "      <th>HPHONE_D</th>\n",
       "      <th>RFA_2F</th>\n",
       "      <th>CLUSTER2</th>\n",
       "      <th>CLUSTER</th>\n",
       "      <th>DATASRCE</th>\n",
       "      <th>DOMAIN_B</th>\n",
       "    </tr>\n",
       "  </thead>\n",
       "  <tbody>\n",
       "    <tr>\n",
       "      <th>0</th>\n",
       "      <td>0.928315</td>\n",
       "      <td>0.000389</td>\n",
       "      <td>0.000000</td>\n",
       "      <td>0.624862</td>\n",
       "      <td>0.666667</td>\n",
       "      <td>0.555556</td>\n",
       "      <td>0.000000</td>\n",
       "      <td>0.0</td>\n",
       "      <td>0.292929</td>\n",
       "      <td>0.363636</td>\n",
       "      <td>...</td>\n",
       "      <td>0.999896</td>\n",
       "      <td>0.008272</td>\n",
       "      <td>0.013732</td>\n",
       "      <td>0.472526</td>\n",
       "      <td>1.0</td>\n",
       "      <td>0.000000</td>\n",
       "      <td>0.426230</td>\n",
       "      <td>0.019231</td>\n",
       "      <td>1.0</td>\n",
       "      <td>0.000000</td>\n",
       "    </tr>\n",
       "    <tr>\n",
       "      <th>1</th>\n",
       "      <td>0.498208</td>\n",
       "      <td>0.000000</td>\n",
       "      <td>0.350257</td>\n",
       "      <td>0.649485</td>\n",
       "      <td>0.500000</td>\n",
       "      <td>0.555556</td>\n",
       "      <td>0.000000</td>\n",
       "      <td>0.0</td>\n",
       "      <td>0.232323</td>\n",
       "      <td>0.232323</td>\n",
       "      <td>...</td>\n",
       "      <td>0.938248</td>\n",
       "      <td>0.000919</td>\n",
       "      <td>0.013277</td>\n",
       "      <td>0.098807</td>\n",
       "      <td>0.0</td>\n",
       "      <td>0.333333</td>\n",
       "      <td>0.950820</td>\n",
       "      <td>0.192308</td>\n",
       "      <td>0.5</td>\n",
       "      <td>0.000000</td>\n",
       "    </tr>\n",
       "    <tr>\n",
       "      <th>2</th>\n",
       "      <td>0.354839</td>\n",
       "      <td>0.000014</td>\n",
       "      <td>0.360556</td>\n",
       "      <td>0.639175</td>\n",
       "      <td>1.000000</td>\n",
       "      <td>0.666667</td>\n",
       "      <td>0.008299</td>\n",
       "      <td>0.0</td>\n",
       "      <td>0.252525</td>\n",
       "      <td>0.272727</td>\n",
       "      <td>...</td>\n",
       "      <td>0.917318</td>\n",
       "      <td>0.012868</td>\n",
       "      <td>0.004407</td>\n",
       "      <td>0.307856</td>\n",
       "      <td>1.0</td>\n",
       "      <td>0.333333</td>\n",
       "      <td>0.852459</td>\n",
       "      <td>0.673077</td>\n",
       "      <td>1.0</td>\n",
       "      <td>0.333333</td>\n",
       "    </tr>\n",
       "    <tr>\n",
       "      <th>3</th>\n",
       "      <td>0.354839</td>\n",
       "      <td>0.000028</td>\n",
       "      <td>0.267868</td>\n",
       "      <td>0.731959</td>\n",
       "      <td>0.166667</td>\n",
       "      <td>0.555556</td>\n",
       "      <td>0.000000</td>\n",
       "      <td>0.0</td>\n",
       "      <td>0.343434</td>\n",
       "      <td>0.191919</td>\n",
       "      <td>...</td>\n",
       "      <td>0.917213</td>\n",
       "      <td>0.020221</td>\n",
       "      <td>0.005610</td>\n",
       "      <td>0.429001</td>\n",
       "      <td>1.0</td>\n",
       "      <td>0.000000</td>\n",
       "      <td>0.344262</td>\n",
       "      <td>0.384615</td>\n",
       "      <td>0.5</td>\n",
       "      <td>0.666667</td>\n",
       "    </tr>\n",
       "    <tr>\n",
       "      <th>4</th>\n",
       "      <td>0.426523</td>\n",
       "      <td>0.000000</td>\n",
       "      <td>0.000000</td>\n",
       "      <td>0.624862</td>\n",
       "      <td>0.000000</td>\n",
       "      <td>0.555556</td>\n",
       "      <td>0.000000</td>\n",
       "      <td>0.0</td>\n",
       "      <td>0.373737</td>\n",
       "      <td>0.464646</td>\n",
       "      <td>...</td>\n",
       "      <td>0.927835</td>\n",
       "      <td>0.005515</td>\n",
       "      <td>0.010585</td>\n",
       "      <td>0.733875</td>\n",
       "      <td>1.0</td>\n",
       "      <td>0.000000</td>\n",
       "      <td>0.688525</td>\n",
       "      <td>0.807692</td>\n",
       "      <td>0.5</td>\n",
       "      <td>0.333333</td>\n",
       "    </tr>\n",
       "  </tbody>\n",
       "</table>\n",
       "<p>5 rows × 325 columns</p>\n",
       "</div>"
      ],
      "text/plain": [
       "    ODATEDW     TCODE       DOB       AGE    INCOME   WEALTH1       HIT  \\\n",
       "0  0.928315  0.000389  0.000000  0.624862  0.666667  0.555556  0.000000   \n",
       "1  0.498208  0.000000  0.350257  0.649485  0.500000  0.555556  0.000000   \n",
       "2  0.354839  0.000014  0.360556  0.639175  1.000000  0.666667  0.008299   \n",
       "3  0.354839  0.000028  0.267868  0.731959  0.166667  0.555556  0.000000   \n",
       "4  0.426523  0.000000  0.000000  0.624862  0.000000  0.555556  0.000000   \n",
       "\n",
       "   MALEMILI   MALEVET  VIETVETS  ...  FISTDATE   TIMELAG   AVGGIFT  CONTROLN  \\\n",
       "0       0.0  0.292929  0.363636  ...  0.999896  0.008272  0.013732  0.472526   \n",
       "1       0.0  0.232323  0.232323  ...  0.938248  0.000919  0.013277  0.098807   \n",
       "2       0.0  0.252525  0.272727  ...  0.917318  0.012868  0.004407  0.307856   \n",
       "3       0.0  0.343434  0.191919  ...  0.917213  0.020221  0.005610  0.429001   \n",
       "4       0.0  0.373737  0.464646  ...  0.927835  0.005515  0.010585  0.733875   \n",
       "\n",
       "   HPHONE_D    RFA_2F  CLUSTER2   CLUSTER  DATASRCE  DOMAIN_B  \n",
       "0       1.0  0.000000  0.426230  0.019231       1.0  0.000000  \n",
       "1       0.0  0.333333  0.950820  0.192308       0.5  0.000000  \n",
       "2       1.0  0.333333  0.852459  0.673077       1.0  0.333333  \n",
       "3       1.0  0.000000  0.344262  0.384615       0.5  0.666667  \n",
       "4       1.0  0.000000  0.688525  0.807692       0.5  0.333333  \n",
       "\n",
       "[5 rows x 325 columns]"
      ]
     },
     "execution_count": 16,
     "metadata": {},
     "output_type": "execute_result"
    }
   ],
   "source": [
    "#normalizing numerical columns\n",
    "from sklearn.preprocessing import MinMaxScaler\n",
    "transformer = MinMaxScaler().fit(numerical)\n",
    "X_normalized = transformer.transform(numerical)\n",
    "X_normalized = pd.DataFrame(X_normalized, columns=numerical.columns)\n",
    "X_normalized.head()"
   ]
  },
  {
   "cell_type": "markdown",
   "id": "c6e00268",
   "metadata": {},
   "source": [
    "### Encode the categorical features using One-Hot Encoding or Ordinal Encoding"
   ]
  },
  {
   "cell_type": "code",
   "execution_count": 17,
   "id": "9370c54e",
   "metadata": {},
   "outputs": [
    {
     "data": {
      "text/html": [
       "<div>\n",
       "<style scoped>\n",
       "    .dataframe tbody tr th:only-of-type {\n",
       "        vertical-align: middle;\n",
       "    }\n",
       "\n",
       "    .dataframe tbody tr th {\n",
       "        vertical-align: top;\n",
       "    }\n",
       "\n",
       "    .dataframe thead th {\n",
       "        text-align: right;\n",
       "    }\n",
       "</style>\n",
       "<table border=\"1\" class=\"dataframe\">\n",
       "  <thead>\n",
       "    <tr style=\"text-align: right;\">\n",
       "      <th></th>\n",
       "      <th>STATE_FL</th>\n",
       "      <th>STATE_GA</th>\n",
       "      <th>STATE_IL</th>\n",
       "      <th>STATE_IN</th>\n",
       "      <th>STATE_MI</th>\n",
       "      <th>STATE_MO</th>\n",
       "      <th>STATE_NC</th>\n",
       "      <th>STATE_TX</th>\n",
       "      <th>STATE_WA</th>\n",
       "      <th>STATE_WI</th>\n",
       "      <th>...</th>\n",
       "      <th>RFA_2A_E</th>\n",
       "      <th>RFA_2A_F</th>\n",
       "      <th>RFA_2A_G</th>\n",
       "      <th>GEOCODE2_B</th>\n",
       "      <th>GEOCODE2_C</th>\n",
       "      <th>GEOCODE2_D</th>\n",
       "      <th>DOMAIN_A_R</th>\n",
       "      <th>DOMAIN_A_S</th>\n",
       "      <th>DOMAIN_A_T</th>\n",
       "      <th>DOMAIN_A_U</th>\n",
       "    </tr>\n",
       "  </thead>\n",
       "  <tbody>\n",
       "    <tr>\n",
       "      <th>0</th>\n",
       "      <td>0.0</td>\n",
       "      <td>0.0</td>\n",
       "      <td>1.0</td>\n",
       "      <td>0.0</td>\n",
       "      <td>0.0</td>\n",
       "      <td>0.0</td>\n",
       "      <td>0.0</td>\n",
       "      <td>0.0</td>\n",
       "      <td>0.0</td>\n",
       "      <td>0.0</td>\n",
       "      <td>...</td>\n",
       "      <td>0.0</td>\n",
       "      <td>1.0</td>\n",
       "      <td>0.0</td>\n",
       "      <td>0.0</td>\n",
       "      <td>0.0</td>\n",
       "      <td>0.0</td>\n",
       "      <td>0.0</td>\n",
       "      <td>0.0</td>\n",
       "      <td>0.0</td>\n",
       "      <td>1.0</td>\n",
       "    </tr>\n",
       "    <tr>\n",
       "      <th>1</th>\n",
       "      <td>0.0</td>\n",
       "      <td>0.0</td>\n",
       "      <td>0.0</td>\n",
       "      <td>0.0</td>\n",
       "      <td>0.0</td>\n",
       "      <td>0.0</td>\n",
       "      <td>0.0</td>\n",
       "      <td>1.0</td>\n",
       "      <td>0.0</td>\n",
       "      <td>0.0</td>\n",
       "      <td>...</td>\n",
       "      <td>0.0</td>\n",
       "      <td>1.0</td>\n",
       "      <td>0.0</td>\n",
       "      <td>0.0</td>\n",
       "      <td>0.0</td>\n",
       "      <td>1.0</td>\n",
       "      <td>0.0</td>\n",
       "      <td>1.0</td>\n",
       "      <td>0.0</td>\n",
       "      <td>0.0</td>\n",
       "    </tr>\n",
       "    <tr>\n",
       "      <th>2</th>\n",
       "      <td>0.0</td>\n",
       "      <td>0.0</td>\n",
       "      <td>0.0</td>\n",
       "      <td>0.0</td>\n",
       "      <td>0.0</td>\n",
       "      <td>0.0</td>\n",
       "      <td>0.0</td>\n",
       "      <td>0.0</td>\n",
       "      <td>0.0</td>\n",
       "      <td>0.0</td>\n",
       "      <td>...</td>\n",
       "      <td>1.0</td>\n",
       "      <td>0.0</td>\n",
       "      <td>0.0</td>\n",
       "      <td>0.0</td>\n",
       "      <td>0.0</td>\n",
       "      <td>1.0</td>\n",
       "      <td>0.0</td>\n",
       "      <td>0.0</td>\n",
       "      <td>1.0</td>\n",
       "      <td>0.0</td>\n",
       "    </tr>\n",
       "    <tr>\n",
       "      <th>3</th>\n",
       "      <td>0.0</td>\n",
       "      <td>0.0</td>\n",
       "      <td>0.0</td>\n",
       "      <td>0.0</td>\n",
       "      <td>0.0</td>\n",
       "      <td>0.0</td>\n",
       "      <td>0.0</td>\n",
       "      <td>0.0</td>\n",
       "      <td>0.0</td>\n",
       "      <td>0.0</td>\n",
       "      <td>...</td>\n",
       "      <td>1.0</td>\n",
       "      <td>0.0</td>\n",
       "      <td>0.0</td>\n",
       "      <td>0.0</td>\n",
       "      <td>0.0</td>\n",
       "      <td>0.0</td>\n",
       "      <td>0.0</td>\n",
       "      <td>1.0</td>\n",
       "      <td>0.0</td>\n",
       "      <td>0.0</td>\n",
       "    </tr>\n",
       "    <tr>\n",
       "      <th>4</th>\n",
       "      <td>0.0</td>\n",
       "      <td>0.0</td>\n",
       "      <td>0.0</td>\n",
       "      <td>0.0</td>\n",
       "      <td>0.0</td>\n",
       "      <td>0.0</td>\n",
       "      <td>0.0</td>\n",
       "      <td>0.0</td>\n",
       "      <td>0.0</td>\n",
       "      <td>0.0</td>\n",
       "      <td>...</td>\n",
       "      <td>0.0</td>\n",
       "      <td>1.0</td>\n",
       "      <td>0.0</td>\n",
       "      <td>1.0</td>\n",
       "      <td>0.0</td>\n",
       "      <td>0.0</td>\n",
       "      <td>1.0</td>\n",
       "      <td>0.0</td>\n",
       "      <td>0.0</td>\n",
       "      <td>0.0</td>\n",
       "    </tr>\n",
       "  </tbody>\n",
       "</table>\n",
       "<p>5 rows × 27 columns</p>\n",
       "</div>"
      ],
      "text/plain": [
       "   STATE_FL  STATE_GA  STATE_IL  STATE_IN  STATE_MI  STATE_MO  STATE_NC  \\\n",
       "0       0.0       0.0       1.0       0.0       0.0       0.0       0.0   \n",
       "1       0.0       0.0       0.0       0.0       0.0       0.0       0.0   \n",
       "2       0.0       0.0       0.0       0.0       0.0       0.0       0.0   \n",
       "3       0.0       0.0       0.0       0.0       0.0       0.0       0.0   \n",
       "4       0.0       0.0       0.0       0.0       0.0       0.0       0.0   \n",
       "\n",
       "   STATE_TX  STATE_WA  STATE_WI  ...  RFA_2A_E  RFA_2A_F  RFA_2A_G  \\\n",
       "0       0.0       0.0       0.0  ...       0.0       1.0       0.0   \n",
       "1       1.0       0.0       0.0  ...       0.0       1.0       0.0   \n",
       "2       0.0       0.0       0.0  ...       1.0       0.0       0.0   \n",
       "3       0.0       0.0       0.0  ...       1.0       0.0       0.0   \n",
       "4       0.0       0.0       0.0  ...       0.0       1.0       0.0   \n",
       "\n",
       "   GEOCODE2_B  GEOCODE2_C  GEOCODE2_D  DOMAIN_A_R  DOMAIN_A_S  DOMAIN_A_T  \\\n",
       "0         0.0         0.0         0.0         0.0         0.0         0.0   \n",
       "1         0.0         0.0         1.0         0.0         1.0         0.0   \n",
       "2         0.0         0.0         1.0         0.0         0.0         1.0   \n",
       "3         0.0         0.0         0.0         0.0         1.0         0.0   \n",
       "4         1.0         0.0         0.0         1.0         0.0         0.0   \n",
       "\n",
       "   DOMAIN_A_U  \n",
       "0         1.0  \n",
       "1         0.0  \n",
       "2         0.0  \n",
       "3         0.0  \n",
       "4         0.0  \n",
       "\n",
       "[5 rows x 27 columns]"
      ]
     },
     "execution_count": 17,
     "metadata": {},
     "output_type": "execute_result"
    }
   ],
   "source": [
    "#encoder categorical features\n",
    "from sklearn.preprocessing import OneHotEncoder\n",
    "X_cat = categorical.copy()\n",
    "encoder = OneHotEncoder(handle_unknown='error',drop='first').fit(X_cat)\n",
    "encoded = encoder.transform(X_cat).toarray()\n",
    "onehot_encoded = pd.DataFrame(encoded,columns=encoder.get_feature_names_out(X_cat.columns))\n",
    "onehot_encoded.head()"
   ]
  },
  {
   "cell_type": "code",
   "execution_count": 18,
   "id": "4f706af4",
   "metadata": {},
   "outputs": [
    {
     "data": {
      "text/html": [
       "<div>\n",
       "<style scoped>\n",
       "    .dataframe tbody tr th:only-of-type {\n",
       "        vertical-align: middle;\n",
       "    }\n",
       "\n",
       "    .dataframe tbody tr th {\n",
       "        vertical-align: top;\n",
       "    }\n",
       "\n",
       "    .dataframe thead th {\n",
       "        text-align: right;\n",
       "    }\n",
       "</style>\n",
       "<table border=\"1\" class=\"dataframe\">\n",
       "  <thead>\n",
       "    <tr style=\"text-align: right;\">\n",
       "      <th></th>\n",
       "      <th>ODATEDW</th>\n",
       "      <th>TCODE</th>\n",
       "      <th>DOB</th>\n",
       "      <th>AGE</th>\n",
       "      <th>INCOME</th>\n",
       "      <th>WEALTH1</th>\n",
       "      <th>HIT</th>\n",
       "      <th>MALEMILI</th>\n",
       "      <th>MALEVET</th>\n",
       "      <th>VIETVETS</th>\n",
       "      <th>...</th>\n",
       "      <th>RFA_2A_E</th>\n",
       "      <th>RFA_2A_F</th>\n",
       "      <th>RFA_2A_G</th>\n",
       "      <th>GEOCODE2_B</th>\n",
       "      <th>GEOCODE2_C</th>\n",
       "      <th>GEOCODE2_D</th>\n",
       "      <th>DOMAIN_A_R</th>\n",
       "      <th>DOMAIN_A_S</th>\n",
       "      <th>DOMAIN_A_T</th>\n",
       "      <th>DOMAIN_A_U</th>\n",
       "    </tr>\n",
       "  </thead>\n",
       "  <tbody>\n",
       "    <tr>\n",
       "      <th>76324</th>\n",
       "      <td>0.862366</td>\n",
       "      <td>0.000000</td>\n",
       "      <td>0.000000</td>\n",
       "      <td>0.624862</td>\n",
       "      <td>0.000000</td>\n",
       "      <td>0.777778</td>\n",
       "      <td>0.000000</td>\n",
       "      <td>0.000000</td>\n",
       "      <td>0.00000</td>\n",
       "      <td>0.000000</td>\n",
       "      <td>...</td>\n",
       "      <td>0.0</td>\n",
       "      <td>0.0</td>\n",
       "      <td>1.0</td>\n",
       "      <td>0.0</td>\n",
       "      <td>0.0</td>\n",
       "      <td>0.0</td>\n",
       "      <td>0.0</td>\n",
       "      <td>0.0</td>\n",
       "      <td>0.0</td>\n",
       "      <td>0.0</td>\n",
       "    </tr>\n",
       "    <tr>\n",
       "      <th>76325</th>\n",
       "      <td>0.713262</td>\n",
       "      <td>0.000014</td>\n",
       "      <td>0.370855</td>\n",
       "      <td>0.628866</td>\n",
       "      <td>0.166667</td>\n",
       "      <td>0.222222</td>\n",
       "      <td>0.024896</td>\n",
       "      <td>0.020202</td>\n",
       "      <td>0.40404</td>\n",
       "      <td>0.313131</td>\n",
       "      <td>...</td>\n",
       "      <td>0.0</td>\n",
       "      <td>1.0</td>\n",
       "      <td>0.0</td>\n",
       "      <td>1.0</td>\n",
       "      <td>0.0</td>\n",
       "      <td>0.0</td>\n",
       "      <td>0.0</td>\n",
       "      <td>1.0</td>\n",
       "      <td>0.0</td>\n",
       "      <td>0.0</td>\n",
       "    </tr>\n",
       "    <tr>\n",
       "      <th>76326</th>\n",
       "      <td>0.569892</td>\n",
       "      <td>0.000000</td>\n",
       "      <td>0.556231</td>\n",
       "      <td>0.443299</td>\n",
       "      <td>0.666667</td>\n",
       "      <td>0.555556</td>\n",
       "      <td>0.000000</td>\n",
       "      <td>0.020202</td>\n",
       "      <td>0.40404</td>\n",
       "      <td>0.555556</td>\n",
       "      <td>...</td>\n",
       "      <td>0.0</td>\n",
       "      <td>1.0</td>\n",
       "      <td>0.0</td>\n",
       "      <td>1.0</td>\n",
       "      <td>0.0</td>\n",
       "      <td>0.0</td>\n",
       "      <td>0.0</td>\n",
       "      <td>1.0</td>\n",
       "      <td>0.0</td>\n",
       "      <td>0.0</td>\n",
       "    </tr>\n",
       "    <tr>\n",
       "      <th>76327</th>\n",
       "      <td>0.784946</td>\n",
       "      <td>0.000000</td>\n",
       "      <td>0.000000</td>\n",
       "      <td>0.624862</td>\n",
       "      <td>0.166667</td>\n",
       "      <td>0.555556</td>\n",
       "      <td>0.000000</td>\n",
       "      <td>0.000000</td>\n",
       "      <td>0.30303</td>\n",
       "      <td>0.222222</td>\n",
       "      <td>...</td>\n",
       "      <td>0.0</td>\n",
       "      <td>1.0</td>\n",
       "      <td>0.0</td>\n",
       "      <td>0.0</td>\n",
       "      <td>0.0</td>\n",
       "      <td>1.0</td>\n",
       "      <td>1.0</td>\n",
       "      <td>0.0</td>\n",
       "      <td>0.0</td>\n",
       "      <td>0.0</td>\n",
       "    </tr>\n",
       "    <tr>\n",
       "      <th>76328</th>\n",
       "      <td>0.641577</td>\n",
       "      <td>0.000000</td>\n",
       "      <td>0.495366</td>\n",
       "      <td>0.494845</td>\n",
       "      <td>0.500000</td>\n",
       "      <td>0.555556</td>\n",
       "      <td>0.000000</td>\n",
       "      <td>0.000000</td>\n",
       "      <td>0.20202</td>\n",
       "      <td>0.545455</td>\n",
       "      <td>...</td>\n",
       "      <td>1.0</td>\n",
       "      <td>0.0</td>\n",
       "      <td>0.0</td>\n",
       "      <td>0.0</td>\n",
       "      <td>0.0</td>\n",
       "      <td>0.0</td>\n",
       "      <td>0.0</td>\n",
       "      <td>0.0</td>\n",
       "      <td>0.0</td>\n",
       "      <td>0.0</td>\n",
       "    </tr>\n",
       "  </tbody>\n",
       "</table>\n",
       "<p>5 rows × 352 columns</p>\n",
       "</div>"
      ],
      "text/plain": [
       "        ODATEDW     TCODE       DOB       AGE    INCOME   WEALTH1       HIT  \\\n",
       "76324  0.862366  0.000000  0.000000  0.624862  0.000000  0.777778  0.000000   \n",
       "76325  0.713262  0.000014  0.370855  0.628866  0.166667  0.222222  0.024896   \n",
       "76326  0.569892  0.000000  0.556231  0.443299  0.666667  0.555556  0.000000   \n",
       "76327  0.784946  0.000000  0.000000  0.624862  0.166667  0.555556  0.000000   \n",
       "76328  0.641577  0.000000  0.495366  0.494845  0.500000  0.555556  0.000000   \n",
       "\n",
       "       MALEMILI  MALEVET  VIETVETS  ...  RFA_2A_E  RFA_2A_F  RFA_2A_G  \\\n",
       "76324  0.000000  0.00000  0.000000  ...       0.0       0.0       1.0   \n",
       "76325  0.020202  0.40404  0.313131  ...       0.0       1.0       0.0   \n",
       "76326  0.020202  0.40404  0.555556  ...       0.0       1.0       0.0   \n",
       "76327  0.000000  0.30303  0.222222  ...       0.0       1.0       0.0   \n",
       "76328  0.000000  0.20202  0.545455  ...       1.0       0.0       0.0   \n",
       "\n",
       "       GEOCODE2_B  GEOCODE2_C  GEOCODE2_D  DOMAIN_A_R  DOMAIN_A_S  DOMAIN_A_T  \\\n",
       "76324         0.0         0.0         0.0         0.0         0.0         0.0   \n",
       "76325         1.0         0.0         0.0         0.0         1.0         0.0   \n",
       "76326         1.0         0.0         0.0         0.0         1.0         0.0   \n",
       "76327         0.0         0.0         1.0         1.0         0.0         0.0   \n",
       "76328         0.0         0.0         0.0         0.0         0.0         0.0   \n",
       "\n",
       "       DOMAIN_A_U  \n",
       "76324         0.0  \n",
       "76325         0.0  \n",
       "76326         0.0  \n",
       "76327         0.0  \n",
       "76328         0.0  \n",
       "\n",
       "[5 rows x 352 columns]"
      ]
     },
     "execution_count": 18,
     "metadata": {},
     "output_type": "execute_result"
    }
   ],
   "source": [
    "#concatenating categorical and numerical values after normalizing and encoding.\n",
    "X_train_treated = pd.concat([X_normalized,onehot_encoded],axis=1)\n",
    "X_train_treated.tail()"
   ]
  },
  {
   "cell_type": "markdown",
   "id": "ddb305be",
   "metadata": {},
   "source": [
    "#### X_TEST"
   ]
  },
  {
   "cell_type": "code",
   "execution_count": 19,
   "id": "9c2b2d57",
   "metadata": {},
   "outputs": [],
   "source": [
    "#getting values for the test and transforming it\n",
    "X_test_num = X_test.select_dtypes(np.number)\n"
   ]
  },
  {
   "cell_type": "code",
   "execution_count": 20,
   "id": "b9c1487d",
   "metadata": {},
   "outputs": [],
   "source": [
    "numTest_treated = transformer.transform(X_test_num)\n",
    "numTest_treated = pd.DataFrame(numTest_treated, columns=X_test_num.columns)"
   ]
  },
  {
   "cell_type": "code",
   "execution_count": 21,
   "id": "d7ab7811",
   "metadata": {},
   "outputs": [],
   "source": [
    "# Encoding categorical features using One-Hot Encoding \n",
    "X_test_cat = X_test.select_dtypes(object)\n",
    "encoded = encoder.transform(X_test_cat).toarray()\n",
    "onehot_encoded = pd.DataFrame(encoded,columns=encoder.get_feature_names_out(X_test_cat.columns))\n"
   ]
  },
  {
   "cell_type": "code",
   "execution_count": 22,
   "id": "88d6521a",
   "metadata": {},
   "outputs": [],
   "source": [
    "# concatenating categorical and numerical once after being onehot_encoded and transformed\n",
    "X_test_treated = pd.concat([numTest_treated,onehot_encoded],axis=1)"
   ]
  },
  {
   "cell_type": "code",
   "execution_count": 23,
   "id": "36b23420",
   "metadata": {},
   "outputs": [
    {
     "data": {
      "text/plain": [
       "array([[18105,     0],\n",
       "       [  978,     0]], dtype=int64)"
      ]
     },
     "execution_count": 23,
     "metadata": {},
     "output_type": "execute_result"
    }
   ],
   "source": [
    "# Fit a logistic regression model on the training data.\n",
    "classification = LogisticRegression(random_state=0, solver='lbfgs', multi_class='ovr',max_iter=1000)\n",
    "classification.fit(X_train_treated, y_train)\n",
    "predictions = classification.predict(X_test_treated)\n",
    "confusion_matrix(y_test, predictions)"
   ]
  },
  {
   "cell_type": "markdown",
   "id": "9aab1281",
   "metadata": {},
   "source": [
    "### Check the accuracy on the test data."
   ]
  },
  {
   "cell_type": "code",
   "execution_count": 25,
   "id": "9b2ca35f",
   "metadata": {},
   "outputs": [
    {
     "data": {
      "text/plain": [
       "0.9487501965099827"
      ]
     },
     "execution_count": 25,
     "metadata": {},
     "output_type": "execute_result"
    }
   ],
   "source": [
    "18105/(18105+978)\n",
    "#94% percent the target is 0 and the other is 6 %"
   ]
  },
  {
   "cell_type": "code",
   "execution_count": 28,
   "id": "73141b88",
   "metadata": {},
   "outputs": [],
   "source": [
    "# reseting the target index\n",
    "y_train = y_train.reset_index(drop=True)\n",
    "X_train0 = X_train_treated[y_train == 0]\n",
    "X_train1 = X_train_treated[y_train == 1]\n"
   ]
  },
  {
   "cell_type": "markdown",
   "id": "4ed9bad5",
   "metadata": {},
   "source": [
    "### Undersamplin"
   ]
  },
  {
   "cell_type": "code",
   "execution_count": 29,
   "id": "8d6d4322",
   "metadata": {},
   "outputs": [],
   "source": [
    "from sklearn.utils import resample\n",
    "X_train0_under = resample(X_train0, \n",
    "                                   replace=False, \n",
    "                                   n_samples = len(X_train1))"
   ]
  },
  {
   "cell_type": "code",
   "execution_count": 30,
   "id": "e7935e5d",
   "metadata": {},
   "outputs": [],
   "source": [
    "train_downsampled = pd.concat([X_train0_under, X_train1], axis=0).reset_index(drop=True)\n",
    "y_downsample = pd.Series(len(X_train0_under)*[0]+len(X_train1)*[1])"
   ]
  },
  {
   "cell_type": "code",
   "execution_count": 31,
   "id": "f0a5a6f0",
   "metadata": {},
   "outputs": [
    {
     "data": {
      "text/plain": [
       "array([[10793,  7312],\n",
       "       [  422,   556]], dtype=int64)"
      ]
     },
     "execution_count": 31,
     "metadata": {},
     "output_type": "execute_result"
    }
   ],
   "source": [
    "# Fit a logistic regression model on the training data.\n",
    "classification = LogisticRegression(random_state=0, solver='lbfgs', multi_class='ovr',max_iter=1000)\n",
    "classification.fit(train_downsampled, y_downsample)\n",
    "\n",
    "predictions = classification.predict(X_test_treated)\n",
    "\n",
    "confusion_matrix(y_test, predictions)"
   ]
  },
  {
   "cell_type": "code",
   "execution_count": 32,
   "id": "e621a13a",
   "metadata": {},
   "outputs": [
    {
     "data": {
      "text/plain": [
       "0.5947178116648326"
      ]
     },
     "execution_count": 32,
     "metadata": {},
     "output_type": "execute_result"
    }
   ],
   "source": [
    "classification.score(X_test_treated, y_test)"
   ]
  },
  {
   "cell_type": "markdown",
   "id": "fe9bf16c",
   "metadata": {},
   "source": [
    "### Oversamplin"
   ]
  },
  {
   "cell_type": "code",
   "execution_count": 33,
   "id": "c38adfa8",
   "metadata": {},
   "outputs": [],
   "source": [
    "X_train1_over = resample(X_train1, \n",
    "                                   replace=True, \n",
    "                                   n_samples = len(X_train0))"
   ]
  },
  {
   "cell_type": "code",
   "execution_count": 34,
   "id": "08e1e8a8",
   "metadata": {},
   "outputs": [],
   "source": [
    "train_oversample = pd.concat([X_train0, X_train1_over], axis=0).reset_index(drop=True)\n",
    "y_oversample = pd.Series(len(X_train0)*[0]+len(X_train1_over)*[1])"
   ]
  },
  {
   "cell_type": "code",
   "execution_count": 35,
   "id": "d1f0399e",
   "metadata": {},
   "outputs": [
    {
     "name": "stderr",
     "output_type": "stream",
     "text": [
      "C:\\Users\\Manuel Buendía\\AppData\\Roaming\\Python\\Python39\\site-packages\\sklearn\\linear_model\\_logistic.py:444: ConvergenceWarning: lbfgs failed to converge (status=1):\n",
      "STOP: TOTAL NO. of ITERATIONS REACHED LIMIT.\n",
      "\n",
      "Increase the number of iterations (max_iter) or scale the data as shown in:\n",
      "    https://scikit-learn.org/stable/modules/preprocessing.html\n",
      "Please also refer to the documentation for alternative solver options:\n",
      "    https://scikit-learn.org/stable/modules/linear_model.html#logistic-regression\n",
      "  n_iter_i = _check_optimize_result(\n"
     ]
    },
    {
     "data": {
      "text/plain": [
       "array([[11169,  6936],\n",
       "       [  440,   538]], dtype=int64)"
      ]
     },
     "execution_count": 35,
     "metadata": {},
     "output_type": "execute_result"
    }
   ],
   "source": [
    "# Fit a logistic regression model on the training data.\n",
    "classification = LogisticRegression(random_state=0, solver='lbfgs', multi_class='ovr',max_iter=250)\n",
    "classification.fit(train_oversample, y_oversample)\n",
    "\n",
    "predictions = classification.predict(X_test_treated)\n",
    "confusion_matrix(y_test, predictions)"
   ]
  },
  {
   "cell_type": "code",
   "execution_count": 36,
   "id": "e63604b7",
   "metadata": {},
   "outputs": [
    {
     "data": {
      "text/plain": [
       "0.6134779646806058"
      ]
     },
     "execution_count": 36,
     "metadata": {},
     "output_type": "execute_result"
    }
   ],
   "source": [
    "classification.score(X_test_treated, y_test)\n",
    "#oversample makes better results"
   ]
  },
  {
   "cell_type": "markdown",
   "id": "f3e137fb",
   "metadata": {},
   "source": [
    "### smote"
   ]
  },
  {
   "cell_type": "code",
   "execution_count": 37,
   "id": "ef936b8e",
   "metadata": {},
   "outputs": [
    {
     "name": "stdout",
     "output_type": "stream",
     "text": [
      "precision:  0.06962519521082769\n",
      "recall:  0.5470347648261759\n",
      "f1:  0.12352805356730548\n"
     ]
    },
    {
     "name": "stderr",
     "output_type": "stream",
     "text": [
      "C:\\Users\\Manuel Buendía\\AppData\\Roaming\\Python\\Python39\\site-packages\\sklearn\\linear_model\\_logistic.py:444: ConvergenceWarning: lbfgs failed to converge (status=1):\n",
      "STOP: TOTAL NO. of ITERATIONS REACHED LIMIT.\n",
      "\n",
      "Increase the number of iterations (max_iter) or scale the data as shown in:\n",
      "    https://scikit-learn.org/stable/modules/preprocessing.html\n",
      "Please also refer to the documentation for alternative solver options:\n",
      "    https://scikit-learn.org/stable/modules/linear_model.html#logistic-regression\n",
      "  n_iter_i = _check_optimize_result(\n"
     ]
    }
   ],
   "source": [
    "sm = SMOTE(random_state=100, k_neighbors=3)\n",
    "X_train_SMOTE,y_train_SMOTE = sm.fit_resample(X_train_treated,y_train)\n",
    "LR = LogisticRegression(random_state=0, solver='lbfgs') \n",
    "LR.fit(X_train_SMOTE, y_train_SMOTE) \n",
    "pred = LR.predict(X_test_treated)\n",
    "print(\"precision: \",precision_score(y_test,pred))\n",
    "print(\"recall: \",recall_score(y_test,pred))\n",
    "print(\"f1: \",f1_score(y_test,pred))"
   ]
  },
  {
   "cell_type": "code",
   "execution_count": 38,
   "id": "6bf7661a",
   "metadata": {},
   "outputs": [
    {
     "data": {
      "text/plain": [
       "array([[11169,  6936],\n",
       "       [  440,   538]], dtype=int64)"
      ]
     },
     "execution_count": 38,
     "metadata": {},
     "output_type": "execute_result"
    }
   ],
   "source": [
    "confusion_matrix(y_test, predictions)"
   ]
  },
  {
   "cell_type": "code",
   "execution_count": 41,
   "id": "ec279a43",
   "metadata": {},
   "outputs": [
    {
     "name": "stdout",
     "output_type": "stream",
     "text": [
      "precision:  0.07076276749376395\n",
      "recall:  0.5511247443762781\n",
      "f1:  0.12542175683536938\n"
     ]
    },
    {
     "name": "stderr",
     "output_type": "stream",
     "text": [
      "C:\\Users\\Manuel Buendía\\AppData\\Roaming\\Python\\Python39\\site-packages\\sklearn\\linear_model\\_logistic.py:444: ConvergenceWarning: lbfgs failed to converge (status=1):\n",
      "STOP: TOTAL NO. of ITERATIONS REACHED LIMIT.\n",
      "\n",
      "Increase the number of iterations (max_iter) or scale the data as shown in:\n",
      "    https://scikit-learn.org/stable/modules/preprocessing.html\n",
      "Please also refer to the documentation for alternative solver options:\n",
      "    https://scikit-learn.org/stable/modules/linear_model.html#logistic-regression\n",
      "  n_iter_i = _check_optimize_result(\n"
     ]
    }
   ],
   "source": [
    "sm = SMOTE(random_state=100, k_neighbors=4)\n",
    "X_train_SMOTE,y_train_SMOTE = sm.fit_resample(X_train_treated,y_train)\n",
    "LR = LogisticRegression(random_state=0, solver='lbfgs') \n",
    "LR.fit(X_train_SMOTE, y_train_SMOTE) \n",
    "pred = LR.predict(X_test_treated)\n",
    "print(\"precision: \",precision_score(y_test,pred))\n",
    "print(\"recall: \",recall_score(y_test,pred))\n",
    "print(\"f1: \",f1_score(y_test,pred))"
   ]
  },
  {
   "cell_type": "code",
   "execution_count": 42,
   "id": "9c596fbc",
   "metadata": {},
   "outputs": [
    {
     "data": {
      "text/plain": [
       "array([[11169,  6936],\n",
       "       [  440,   538]], dtype=int64)"
      ]
     },
     "execution_count": 42,
     "metadata": {},
     "output_type": "execute_result"
    }
   ],
   "source": [
    "confusion_matrix(y_test, predictions)"
   ]
  },
  {
   "cell_type": "code",
   "execution_count": 43,
   "id": "3d31b00e",
   "metadata": {},
   "outputs": [
    {
     "name": "stdout",
     "output_type": "stream",
     "text": [
      "precision:  0.06956177402323126\n",
      "recall:  0.5388548057259713\n",
      "f1:  0.12321720832359132\n"
     ]
    },
    {
     "name": "stderr",
     "output_type": "stream",
     "text": [
      "C:\\Users\\Manuel Buendía\\AppData\\Roaming\\Python\\Python39\\site-packages\\sklearn\\linear_model\\_logistic.py:444: ConvergenceWarning: lbfgs failed to converge (status=1):\n",
      "STOP: TOTAL NO. of ITERATIONS REACHED LIMIT.\n",
      "\n",
      "Increase the number of iterations (max_iter) or scale the data as shown in:\n",
      "    https://scikit-learn.org/stable/modules/preprocessing.html\n",
      "Please also refer to the documentation for alternative solver options:\n",
      "    https://scikit-learn.org/stable/modules/linear_model.html#logistic-regression\n",
      "  n_iter_i = _check_optimize_result(\n"
     ]
    }
   ],
   "source": [
    "sm = SMOTE(random_state=100, k_neighbors=1)\n",
    "X_train_SMOTE,y_train_SMOTE = sm.fit_resample(X_train_treated,y_train)\n",
    "LR = LogisticRegression(random_state=0, solver='lbfgs') \n",
    "LR.fit(X_train_SMOTE, y_train_SMOTE) \n",
    "pred = LR.predict(X_test_treated)\n",
    "print(\"precision: \",precision_score(y_test,pred))\n",
    "print(\"recall: \",recall_score(y_test,pred))\n",
    "print(\"f1: \",f1_score(y_test,pred))"
   ]
  },
  {
   "cell_type": "code",
   "execution_count": 44,
   "id": "700ee8f6",
   "metadata": {},
   "outputs": [
    {
     "data": {
      "text/plain": [
       "array([[11169,  6936],\n",
       "       [  440,   538]], dtype=int64)"
      ]
     },
     "execution_count": 44,
     "metadata": {},
     "output_type": "execute_result"
    }
   ],
   "source": [
    "confusion_matrix(y_test, predictions)"
   ]
  },
  {
   "cell_type": "code",
   "execution_count": null,
   "id": "b0dee658",
   "metadata": {},
   "outputs": [],
   "source": []
  }
 ],
 "metadata": {
  "kernelspec": {
   "display_name": "Python 3 (ipykernel)",
   "language": "python",
   "name": "python3"
  },
  "language_info": {
   "codemirror_mode": {
    "name": "ipython",
    "version": 3
   },
   "file_extension": ".py",
   "mimetype": "text/x-python",
   "name": "python",
   "nbconvert_exporter": "python",
   "pygments_lexer": "ipython3",
   "version": "3.9.12"
  }
 },
 "nbformat": 4,
 "nbformat_minor": 5
}
